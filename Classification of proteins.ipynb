{
  "nbformat": 4,
  "nbformat_minor": 0,
  "metadata": {
    "colab": {
      "provenance": []
    },
    "kernelspec": {
      "name": "python3",
      "display_name": "Python 3"
    },
    "language_info": {
      "name": "python"
    }
  },
  "cells": [
    {
      "cell_type": "code",
      "execution_count": 4,
      "metadata": {
        "colab": {
          "base_uri": "https://localhost:8080/"
        },
        "id": "ZWjtLUnLlf0B",
        "outputId": "ca470c6d-7f57-4b30-9e85-d7526f377377"
      },
      "outputs": [
        {
          "output_type": "stream",
          "name": "stdout",
          "text": [
            "Test Accuracy of the model : 90.84194977843427\n"
          ]
        }
      ],
      "source": [
        "#IMPORTING THE REQUIRED LIBRARIES\n",
        "\n",
        "import pandas as pd\n",
        "from sklearn.preprocessing import LabelEncoder\n",
        "import numpy as np\n",
        "from sklearn.model_selection import train_test_split\n",
        "from sklearn.ensemble import RandomForestClassifier\n",
        "from sklearn.metrics import accuracy_score\n",
        "from imblearn.over_sampling import SMOTE\n",
        "import collections\n",
        "import csv\n",
        "from sklearn.svm import SVC\n",
        "\n",
        "#ENCODING AMINO ACIDS\n",
        "#Declaring custom encoder\n",
        "label_encoder = LabelEncoder()\n",
        "AA_sequence_loop = {char: i  for i, char in enumerate('ACDEFGHIKLMNPQRSTVWY')}\n",
        "\n",
        "#Loading training data\n",
        "train_data=pd.read_csv(\"train.csv\")\n",
        "\n",
        "#Applying Term Frequency-Inverse Document Frequency to dataset\n",
        "tfidf_list=[]\n",
        "\n",
        "#Looping training data sequence\n",
        "for data in train_data[\"Sequence\"]:\n",
        "  AA_characters=len(data)\n",
        "  AA_occurence = collections.Counter(data)\n",
        "  #Creating TF-IDF like scores\n",
        "  tf_idf_scores = {letter: count  for letter, count in AA_occurence.items()}\n",
        "    #Appending score dictionary to list\n",
        "  tfidf_list.append(tf_idf_scores)\n",
        "\n",
        "#Finalising the encoding sequence based on TF_IDF like scores\n",
        "final_list=[]\n",
        "for idf in tfidf_list:\n",
        "  #Creating a list with 21 zeroes\n",
        "  temp_list=[0]*21\n",
        "  for i in idf:\n",
        "    #Adding count to index with corresponding labels\n",
        "    temp_list[AA_sequence_loop[i]]=idf[i]\n",
        "  final_list.append(temp_list)\n",
        "\n",
        "#Converting sequences and labels as numpy arrays\n",
        "Sequences=np.array(final_list)\n",
        "Labels=np.array(train_data[\"Label\"])\n",
        "\n",
        "#Applying SMOTE to the given dataset\n",
        "smote=SMOTE(random_state=42)\n",
        "X_sample,y_resample=smote.fit_resample(Sequences,Labels)\n",
        "\n",
        "#Splitting the data into training and testing samples\n",
        "X_train, X_test, y_train, y_test = train_test_split(X_sample, y_resample, test_size=0.3, random_state=42)\n",
        "\n",
        "#Declaring the classifier, ie RF classifier with the various hyperparameters\n",
        "rf_classifier = RandomForestClassifier(n_estimators=60, max_depth=None, min_samples_split=2)\n",
        "\n",
        "#Fitting the training data with the testing data\n",
        "rf_classifier.fit(X_train, y_train)\n",
        "\n",
        "#Predicting the output values for the testing sequences\n",
        "y_pred = rf_classifier.predict(X_test)\n",
        "\n",
        "# Calculating the accuracy of out model\n",
        "accuracy = accuracy_score(y_test, y_pred)\n",
        "print(f\"Test Accuracy of the model : {accuracy*100}\")\n",
        "\n",
        "#Reading the original test dataset\n",
        "test_data=pd.read_csv(\"test.csv\")\n",
        "\n",
        "#Applying the TF_IDF on test data\n",
        "test_tfidf_list=[]\n",
        "for data in test_data[\"Sequence\"]:\n",
        "  AA_characters=len(data)\n",
        "  AA_occurence = collections.Counter(data)\n",
        "    #Creating TF_IDF Scores\n",
        "  tf_idf_scores = {letter: count  for letter, count in AA_occurence.items()}\n",
        "   #Appending score dictionary to list\n",
        "  test_tfidf_list.append(tf_idf_scores)\n",
        "\n",
        "#Converting TF-IDF-like scores into an actual test sequence\n",
        "test_final_list=[]\n",
        "for idf in test_tfidf_list:\n",
        "  #Creating a list with 21 zeroes\n",
        "  temp_list=[0]*21\n",
        "  for i in idf:\n",
        " #using dictionary to find its corresponding index\n",
        "    temp_list[AA_sequence_loop[i]]=idf[i]\n",
        "  test_final_list.append(temp_list)\n",
        "\n",
        "#Using the trained Random Forest classifier to predict labels for the test data\n",
        "final_pred=rf_classifier.predict(test_final_list)\n",
        "\n",
        "#Saving the results to csv file\n",
        "with open('./output/final_result.csv', mode='w', newline='') as file:\n",
        "  writer = csv.writer(file)\n",
        "  writer.writerow(['ID', 'Label'])\n",
        "  for i in range(0,len(test_data[\"ID\"])):\n",
        "    writer.writerow([test_data[\"ID\"][i],final_pred[i]])"
      ]
    }
  ]
}